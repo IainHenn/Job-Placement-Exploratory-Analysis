{
 "cells": [
  {
   "cell_type": "code",
   "execution_count": 338,
   "metadata": {},
   "outputs": [
    {
     "name": "stdout",
     "output_type": "stream",
     "text": [
      "id                              int64\n",
      "name                           object\n",
      "gender                 string[python]\n",
      "age                             int64\n",
      "degree                         object\n",
      "major                          object\n",
      "college_name           string[python]\n",
      "placement_status               object\n",
      "salary                          int64\n",
      "gpa                           float64\n",
      "years_of_experience           float64\n",
      "dtype: object\n"
     ]
    }
   ],
   "source": [
    "import pandas as pd \n",
    "import plotly.express as px\n",
    "from sklearn.feature_selection import SelectKBest, chi2\n",
    "from sklearn.linear_model import LogisticRegression\n",
    "from sklearn.model_selection import train_test_split\n",
    "from sklearn.metrics import classification_report\n",
    "from sklearn.preprocessing import StandardScaler\n",
    "from sklearn.metrics import precision_recall_curve\n",
    "import numpy as np\n",
    "\n",
    "#pd.set_option('display.max_columns',None)\n",
    "#pd.set_option('display.max_rows', None)\n",
    "JP_df = pd.read_csv(\"C:/Users/Iaine/.vscode/Python Projects/Job Placement Data + Exploratory Analysis/job_placement.csv\")\n",
    "JP_df = JP_df.rename(columns = {\"stream\":\"major\"})\n",
    "JP_df[\"college_name\"] = JP_df[\"college_name\"].astype(\"string\")\n",
    "JP_df[\"gender\"] = JP_df[\"gender\"].astype(\"string\")\n",
    "print(JP_df.dtypes)"
   ]
  },
  {
   "cell_type": "code",
   "execution_count": 339,
   "metadata": {},
   "outputs": [],
   "source": [
    "JP_df[\"gender\"] = JP_df[\"gender\"].replace(\"Male\",\"M\")\n",
    "JP_df[\"gender\"] = JP_df[\"gender\"].replace(\"Female\",\"F\")\n",
    "#Changing \"Male\" to \"M\" and \"Female\" to \"F\" for simplicity and to make the data look cleaner "
   ]
  },
  {
   "cell_type": "code",
   "execution_count": 340,
   "metadata": {},
   "outputs": [
    {
     "name": "stdout",
     "output_type": "stream",
     "text": [
      "Series([], dtype: bool)\n"
     ]
    }
   ],
   "source": [
    "jp_dupe = JP_df.duplicated()\n",
    "print(jp_dupe[jp_dupe == \"True\"])\n",
    "#There's no duplicates in the data "
   ]
  },
  {
   "cell_type": "code",
   "execution_count": 341,
   "metadata": {},
   "outputs": [],
   "source": [
    "#print(JP_df.groupby(\"name\").count())\n",
    "#It seems like data used random names to keep anonymity, the name column means nothing to the data \n",
    "\n",
    "JP_df_noName = JP_df.drop(\"name\", inplace = False, axis = 1)\n",
    "#print(JP_df_noName)"
   ]
  },
  {
   "cell_type": "code",
   "execution_count": 342,
   "metadata": {},
   "outputs": [],
   "source": [
    "#print(JP_df_noName[\"degree\"].unique())\n",
    "#everyone has a bachelor's degree in this data set, dropping it \n",
    "JP_df_noName_noDegree = JP_df_noName.drop(\"degree\",inplace = False, axis = 1)\n",
    "#print(JP_df_noName_noDegree)"
   ]
  },
  {
   "cell_type": "code",
   "execution_count": 343,
   "metadata": {},
   "outputs": [],
   "source": [
    "#Replace NAN values \n",
    "JP_df_noName_noDegree = JP_df_noName_noDegree.fillna(0)"
   ]
  },
  {
   "cell_type": "code",
   "execution_count": 344,
   "metadata": {},
   "outputs": [
    {
     "name": "stdout",
     "output_type": "stream",
     "text": [
      "      id gender  age                          major  \\\n",
      "0      1      M   25               Computer Science   \n",
      "1      2      F   24         Electrical Engineering   \n",
      "2      3      M   26         Mechanical Engineering   \n",
      "3      4      F   23         Information Technology   \n",
      "4      5      M   24               Computer Science   \n",
      "..   ...    ...  ...                            ...   \n",
      "695  696      M   23               Computer Science   \n",
      "696  697      F   26  Electronics and Communication   \n",
      "697  698      M   24               Computer Science   \n",
      "698  699      F   23         Electrical Engineering   \n",
      "699  700      M   26         Information Technology   \n",
      "\n",
      "                                  college_name placement_status  salary  gpa  \\\n",
      "0                           Harvard University           Placed   60000  3.7   \n",
      "1        Massachusetts Institute of Technology           Placed   65000  3.6   \n",
      "2                          Stanford University           Placed   58000  3.8   \n",
      "3                              Yale University       Not Placed       0  3.5   \n",
      "4                         Princeton University           Placed   62000  3.9   \n",
      "..                                         ...              ...     ...  ...   \n",
      "695                   University of Washington           Placed   67000  3.8   \n",
      "696         University of California--Berkeley           Placed   66000  3.9   \n",
      "697   University of Illinois--Urbana-Champaign           Placed   65000  3.8   \n",
      "698            University of Colorado--Boulder           Placed   66000  3.7   \n",
      "699  University of North Carolina--Chapel Hill       Not Placed       0  3.6   \n",
      "\n",
      "     years_of_experience  \n",
      "0                    2.0  \n",
      "1                    1.0  \n",
      "2                    3.0  \n",
      "3                    2.0  \n",
      "4                    2.0  \n",
      "..                   ...  \n",
      "695                  3.0  \n",
      "696                  3.0  \n",
      "697                  3.0  \n",
      "698                  2.0  \n",
      "699                  1.0  \n",
      "\n",
      "[700 rows x 9 columns]\n",
      "44\n"
     ]
    }
   ],
   "source": [
    "#Feature Encoding****\n",
    "#Need to convert categorical variables to a numeric format (i.e. gender, major, and college_name)\n",
    "print(JP_df_noName_noDegree)\n",
    "\n",
    "#gender feature encoded \n",
    "JP_df_cleaned = JP_df_noName_noDegree \n",
    "JP_df_cleaned[\"gender\"] = JP_df_cleaned[\"gender\"].replace(\"M\",\"1\")\n",
    "JP_df_cleaned[\"gender\"] = JP_df_cleaned[\"gender\"].replace(\"F\",\"0\")\n",
    "JP_df_cleaned[\"gender\"] = JP_df_cleaned[\"gender\"].astype(\"int\")\n",
    "\n",
    "#major feature encoded \n",
    "# 1 - (CS), 2 - (EE), 3 - (E&C), 4 - (IT), 5 - (ME)\n",
    "JP_df_cleaned[\"major\"] = JP_df_cleaned[\"major\"].replace(\"Computer Science\",\"1\")\n",
    "JP_df_cleaned[\"major\"] = JP_df_cleaned[\"major\"].replace(\"Electrical Engineering\",\"2\")\n",
    "JP_df_cleaned[\"major\"] = JP_df_cleaned[\"major\"].replace(\"Electronics and Communication\",\"3\")\n",
    "JP_df_cleaned[\"major\"] = JP_df_cleaned[\"major\"].replace(\"Information Technology\",\"4\")\n",
    "JP_df_cleaned[\"major\"] = JP_df_cleaned[\"major\"].replace(\"Mechanical Engineering\",\"5\")\n",
    "JP_df_cleaned[\"major\"] = JP_df_cleaned[\"major\"].astype(\"int\")\n",
    "\n",
    "#college_name feature encoded\n",
    "print(JP_df_cleaned[\"college_name\"].nunique())\n",
    "unique_colleges = JP_df_cleaned[\"college_name\"].unique()\n",
    "for i in range(0,JP_df_cleaned[\"college_name\"].nunique()):\n",
    "    JP_df_cleaned[\"college_name\"] = JP_df_cleaned[\"college_name\"].replace(unique_colleges[i],str(i+1))\n",
    "\n",
    "\n",
    "#placement_status feature encoded \n",
    "JP_df_cleaned[\"placement_status\"] = JP_df_cleaned[\"placement_status\"].replace(\"Placed\",\"1\")\n",
    "JP_df_cleaned[\"placement_status\"] = JP_df_cleaned[\"placement_status\"].replace(\"Not Placed\",\"0\")"
   ]
  },
  {
   "cell_type": "code",
   "execution_count": 345,
   "metadata": {},
   "outputs": [],
   "source": [
    "#features \n",
    "#no gender or college name or major\n",
    "feature_columns = np.array([\"gender\",\"major\",\"college_name\",\"gpa\",\"years_of_experience\"])\n",
    "X = JP_df_noName_noDegree[feature_columns]\n",
    "#target\n",
    "Y = JP_df_noName_noDegree.placement_status"
   ]
  },
  {
   "cell_type": "code",
   "execution_count": 346,
   "metadata": {},
   "outputs": [
    {
     "name": "stdout",
     "output_type": "stream",
     "text": [
      "[ True  True  True  True  True]\n",
      "              precision    recall  f1-score   support\n",
      "\n",
      "      Placed       0.75      0.30      0.43        30\n",
      "  Not Placed       0.87      0.98      0.92       145\n",
      "\n",
      "    accuracy                           0.86       175\n",
      "   macro avg       0.81      0.64      0.68       175\n",
      "weighted avg       0.85      0.86      0.84       175\n",
      "\n"
     ]
    }
   ],
   "source": [
    "selector = SelectKBest(chi2,k = 5)\n",
    "X_new = selector.fit_transform(X,Y)\n",
    "print(selector.get_support())\n",
    "\n",
    "X_train, X_test, Y_train, Y_test = train_test_split(X_new,Y,test_size = .25, train_size = .75)\n",
    "\n",
    "logReg = LogisticRegression()\n",
    "logReg.fit(X_train,Y_train)\n",
    "\n",
    "Y_predicted = logReg.predict(X_test)\n",
    "\n",
    "target_names = [\"Placed\",\"Not Placed\"]\n",
    "print(classification_report(Y_test,Y_predicted, target_names = target_names))"
   ]
  }
 ],
 "metadata": {
  "kernelspec": {
   "display_name": "Python 3",
   "language": "python",
   "name": "python3"
  },
  "language_info": {
   "codemirror_mode": {
    "name": "ipython",
    "version": 3
   },
   "file_extension": ".py",
   "mimetype": "text/x-python",
   "name": "python",
   "nbconvert_exporter": "python",
   "pygments_lexer": "ipython3",
   "version": "3.12.2"
  }
 },
 "nbformat": 4,
 "nbformat_minor": 2
}
